{
 "cells": [
  {
   "cell_type": "code",
   "execution_count": 22,
   "id": "quantitative-hotel",
   "metadata": {},
   "outputs": [],
   "source": [
    "import numpy as np"
   ]
  },
  {
   "cell_type": "markdown",
   "id": "peaceful-darwin",
   "metadata": {},
   "source": [
    "# Method 1"
   ]
  },
  {
   "cell_type": "code",
   "execution_count": 23,
   "id": "hungry-question",
   "metadata": {},
   "outputs": [
    {
     "data": {
      "text/plain": [
       "array([ 0,  1,  2,  3,  4,  5,  6,  7,  8,  9, 10, 11])"
      ]
     },
     "execution_count": 23,
     "metadata": {},
     "output_type": "execute_result"
    }
   ],
   "source": [
    "Arr = np.arange(12)\n",
    "Arr"
   ]
  },
  {
   "cell_type": "code",
   "execution_count": 24,
   "id": "through-electronics",
   "metadata": {},
   "outputs": [
    {
     "name": "stdout",
     "output_type": "stream",
     "text": [
      "0 1 2 3 4 5 6 7 8 9 10 11 "
     ]
    }
   ],
   "source": [
    "import numpy as np\n",
    "Arr = np.arange(12)\n",
    "for val in Arr:\n",
    "    print(val, end=' ')"
   ]
  },
  {
   "cell_type": "markdown",
   "id": "freelance-legislation",
   "metadata": {},
   "source": [
    "# Method 2"
   ]
  },
  {
   "cell_type": "code",
   "execution_count": 25,
   "id": "silent-updating",
   "metadata": {},
   "outputs": [],
   "source": [
    "# we can also iterate the numpay array just like other \n",
    "# programming languages like C++, C, etc."
   ]
  },
  {
   "cell_type": "code",
   "execution_count": 26,
   "id": "hairy-dublin",
   "metadata": {},
   "outputs": [
    {
     "name": "stdout",
     "output_type": "stream",
     "text": [
      "0\n",
      "1\n",
      "2\n",
      "3\n",
      "4\n",
      "5\n",
      "6\n",
      "7\n",
      "8\n",
      "9\n",
      "10\n",
      "11\n"
     ]
    }
   ],
   "source": [
    "import numpy as np\n",
    "Arr = np.arange(12)\n",
    "i = 0\n",
    "while Arr[i] < Arr.size:\n",
    "    print(Arr[i])\n",
    "    i = i+1\n",
    "    if(i==Arr.size):\n",
    "        break"
   ]
  },
  {
   "cell_type": "markdown",
   "id": "criminal-plate",
   "metadata": {},
   "source": [
    "# Method 3 : Iterating a Two-dimensional Array\n"
   ]
  },
  {
   "cell_type": "code",
   "execution_count": 27,
   "id": "documentary-funds",
   "metadata": {},
   "outputs": [
    {
     "name": "stdout",
     "output_type": "stream",
     "text": [
      "[0 1 2]\n",
      "[3 4 5]\n",
      "[6 7 8]\n",
      "[ 9 10 11]\n"
     ]
    }
   ],
   "source": [
    "Arr = np.arange(12).reshape(4,3)\n",
    "for row in Arr:\n",
    "    print(row)"
   ]
  },
  {
   "cell_type": "markdown",
   "id": "german-attitude",
   "metadata": {},
   "source": [
    "# Method 4: Iterate over each element on 2D array"
   ]
  },
  {
   "cell_type": "code",
   "execution_count": 44,
   "id": "tamil-trick",
   "metadata": {},
   "outputs": [
    {
     "name": "stdout",
     "output_type": "stream",
     "text": [
      "0\t1\t2\t\n",
      "\n",
      "3\t4\t5\t\n",
      "\n",
      "6\t7\t8\t\n",
      "\n",
      "9\t10\t11\t\n",
      "\n"
     ]
    }
   ],
   "source": [
    "Arr = np.arange(12).reshape(4,3)\n",
    "for row in Arr:\n",
    "    for cell in row:\n",
    "        print(cell, end='\\t')\n",
    "    print(\"\\n\")"
   ]
  },
  {
   "cell_type": "markdown",
   "id": "chemical-algeria",
   "metadata": {},
   "source": [
    "# Method 5: Using Flatten method"
   ]
  },
  {
   "cell_type": "code",
   "execution_count": 55,
   "id": "whole-contract",
   "metadata": {},
   "outputs": [
    {
     "name": "stdout",
     "output_type": "stream",
     "text": [
      "0 1 2 3 4 5 6 7 8 9 10 11 "
     ]
    }
   ],
   "source": [
    "Arr = np.arange(12).reshape(4,3)\n",
    "for cell in Arr.flatten():\n",
    "        print(cell, end=' ')"
   ]
  },
  {
   "cell_type": "markdown",
   "id": "southwest-digit",
   "metadata": {},
   "source": [
    "# Method 6: Nditer Object"
   ]
  },
  {
   "cell_type": "code",
   "execution_count": 56,
   "id": "french-veteran",
   "metadata": {},
   "outputs": [
    {
     "data": {
      "text/plain": [
       "array([[ 0,  1,  2],\n",
       "       [ 3,  4,  5],\n",
       "       [ 6,  7,  8],\n",
       "       [ 9, 10, 11]])"
      ]
     },
     "execution_count": 56,
     "metadata": {},
     "output_type": "execute_result"
    }
   ],
   "source": [
    "Arr"
   ]
  },
  {
   "cell_type": "code",
   "execution_count": 57,
   "id": "secondary-scientist",
   "metadata": {},
   "outputs": [
    {
     "name": "stdout",
     "output_type": "stream",
     "text": [
      "0 1 2 3 4 5 6 7 8 9 10 11 "
     ]
    }
   ],
   "source": [
    "Arr = np.arange(12).reshape(4,3)\n",
    "for cell in np.nditer(Arr):\n",
    "    print(cell, end=' ')"
   ]
  },
  {
   "cell_type": "code",
   "execution_count": 58,
   "id": "nutritional-print",
   "metadata": {},
   "outputs": [
    {
     "name": "stdout",
     "output_type": "stream",
     "text": [
      "0 1 2 3 4 5 6 7 8 9 10 11 "
     ]
    }
   ],
   "source": [
    "# C order iteration\n",
    "Arr = np.arange(12).reshape(4,3)\n",
    "for cell in np.nditer(Arr, order='C'):\n",
    "    print(cell, end=' ')"
   ]
  },
  {
   "cell_type": "code",
   "execution_count": 59,
   "id": "solid-quantity",
   "metadata": {},
   "outputs": [
    {
     "name": "stdout",
     "output_type": "stream",
     "text": [
      "0 3 6 9 1 4 7 10 2 5 8 11 "
     ]
    }
   ],
   "source": [
    "# F order iteration\n",
    "Arr = np.arange(12).reshape(4,3)\n",
    "for cell in np.nditer(Arr, order='F'):\n",
    "    print(cell, end=' ')"
   ]
  },
  {
   "cell_type": "markdown",
   "id": "spoken-supervisor",
   "metadata": {},
   "source": [
    "# Modification to the Numpy array using nditer"
   ]
  },
  {
   "cell_type": "code",
   "execution_count": 60,
   "id": "narrative-correlation",
   "metadata": {},
   "outputs": [
    {
     "ename": "ValueError",
     "evalue": "assignment destination is read-only",
     "output_type": "error",
     "traceback": [
      "\u001b[0;31m---------------------------------------------------------------------------\u001b[0m",
      "\u001b[0;31mValueError\u001b[0m                                Traceback (most recent call last)",
      "\u001b[0;32m<ipython-input-60-8d1b4acca918>\u001b[0m in \u001b[0;36m<module>\u001b[0;34m\u001b[0m\n\u001b[1;32m      1\u001b[0m \u001b[0;32mfor\u001b[0m \u001b[0mcell\u001b[0m \u001b[0;32min\u001b[0m \u001b[0mnp\u001b[0m\u001b[0;34m.\u001b[0m\u001b[0mnditer\u001b[0m\u001b[0;34m(\u001b[0m\u001b[0mArr\u001b[0m\u001b[0;34m)\u001b[0m\u001b[0;34m:\u001b[0m\u001b[0;34m\u001b[0m\u001b[0;34m\u001b[0m\u001b[0m\n\u001b[0;32m----> 2\u001b[0;31m     \u001b[0mcell\u001b[0m\u001b[0;34m[\u001b[0m\u001b[0;34m...\u001b[0m\u001b[0;34m]\u001b[0m \u001b[0;34m=\u001b[0m\u001b[0mcell\u001b[0m\u001b[0;34m*\u001b[0m\u001b[0;36m2\u001b[0m\u001b[0;34m\u001b[0m\u001b[0;34m\u001b[0m\u001b[0m\n\u001b[0m",
      "\u001b[0;31mValueError\u001b[0m: assignment destination is read-only"
     ]
    }
   ],
   "source": [
    "for cell in np.nditer(Arr):\n",
    "    cell[...] =cell*2"
   ]
  },
  {
   "cell_type": "code",
   "execution_count": 61,
   "id": "compliant-shame",
   "metadata": {},
   "outputs": [
    {
     "data": {
      "text/plain": [
       "array([[-3, -2, -1],\n",
       "       [ 0,  1,  2],\n",
       "       [ 3,  4,  5],\n",
       "       [ 6,  7,  8]])"
      ]
     },
     "execution_count": 61,
     "metadata": {},
     "output_type": "execute_result"
    }
   ],
   "source": [
    "for cell in np.nditer(Arr, op_flags=['readwrite']):\n",
    "    cell[...] =cell-3\n",
    "Arr"
   ]
  },
  {
   "cell_type": "code",
   "execution_count": null,
   "id": "aquatic-exhibition",
   "metadata": {},
   "outputs": [],
   "source": []
  }
 ],
 "metadata": {
  "kernelspec": {
   "display_name": "Python 3",
   "language": "python",
   "name": "python3"
  },
  "language_info": {
   "codemirror_mode": {
    "name": "ipython",
    "version": 3
   },
   "file_extension": ".py",
   "mimetype": "text/x-python",
   "name": "python",
   "nbconvert_exporter": "python",
   "pygments_lexer": "ipython3",
   "version": "3.8.10"
  }
 },
 "nbformat": 4,
 "nbformat_minor": 5
}
